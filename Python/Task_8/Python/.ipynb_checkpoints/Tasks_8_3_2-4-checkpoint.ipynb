{
 "cells": [
  {
   "cell_type": "markdown",
   "id": "e1937a86",
   "metadata": {},
   "source": [
    "Исследуем набор данных об аренде велосипедов в Чикаго:\n",
    "\n",
    "Описание данных:\n",
    "\n",
    "**trip_id** – id поездки;\n",
    "\n",
    "**start_time** – Дата и время начала поездки;\n",
    "\n",
    "**end_time** – Дата и время конца поездки;\n",
    "\n",
    "**bikeid** – id велосипеда;\n",
    "\n",
    "**tripduration** – продолжительность поездки в минутах;\n",
    "\n",
    "**from_station_id** – id станции начала поездки;\n",
    "\n",
    "**from_station_name** – название пункта отправления;\n",
    "\n",
    "**to_station_id** – id пункта прибытия;\n",
    "\n",
    "**to_station_name** – название пункта прибытия;\n",
    "\n",
    "**gender** – пол (если subscriber);\n",
    "\n",
    "**birthyear** – год рождения (если subscriber)."
   ]
  },
  {
   "cell_type": "code",
   "execution_count": 1,
   "id": "c29c3812",
   "metadata": {},
   "outputs": [],
   "source": [
    "import pandas as pd\n",
    "import scipy\n",
    "from scipy import stats\n",
    "from scipy import linalg\n",
    "import numpy as np\n",
    "import seaborn as sns\n",
    "import matplotlib.pyplot as plt\n",
    "import scipy.stats as ss"
   ]
  },
  {
   "cell_type": "code",
   "execution_count": 2,
   "id": "928e7481",
   "metadata": {},
   "outputs": [],
   "source": [
    "bikes_Q1 = pd.read_csv('/Users/siarheimasliankou/Documents/Work/DA_Practice/Python/Task_8/Tasks_from_3_topic/bikes_q1_sample.csv')"
   ]
  },
  {
   "cell_type": "code",
   "execution_count": 3,
   "id": "ba4e7bc8",
   "metadata": {},
   "outputs": [],
   "source": [
    "#Возьмем данные только за Q1 и подготовим данные. Поместим колонку start_time в качестве индексов и сохраним изменения в исходный датасет. \n",
    "#Предварительно проверим тип переменной:\n",
    "\n",
    "\n",
    "bikes_Q1['start_time'] = pd.to_datetime(bikes_Q1['start_time'])\n",
    "bikes_Q1['end_time'] = pd.to_datetime(bikes_Q1['end_time'])\n",
    "\n",
    "bikes_Q1.sort_values(by='start_time', inplace=True)\n",
    "\n",
    "bikes_Q1 = bikes_Q1.set_index('start_time')"
   ]
  },
  {
   "cell_type": "code",
   "execution_count": 8,
   "id": "cc122e65",
   "metadata": {},
   "outputs": [
    {
     "data": {
      "text/html": [
       "<div>\n",
       "<style scoped>\n",
       "    .dataframe tbody tr th:only-of-type {\n",
       "        vertical-align: middle;\n",
       "    }\n",
       "\n",
       "    .dataframe tbody tr th {\n",
       "        vertical-align: top;\n",
       "    }\n",
       "\n",
       "    .dataframe thead th {\n",
       "        text-align: right;\n",
       "    }\n",
       "</style>\n",
       "<table border=\"1\" class=\"dataframe\">\n",
       "  <thead>\n",
       "    <tr style=\"text-align: right;\">\n",
       "      <th></th>\n",
       "      <th>trip_id</th>\n",
       "    </tr>\n",
       "    <tr>\n",
       "      <th>start_time</th>\n",
       "      <th></th>\n",
       "    </tr>\n",
       "  </thead>\n",
       "  <tbody>\n",
       "    <tr>\n",
       "      <th>2018-01-01</th>\n",
       "      <td>191</td>\n",
       "    </tr>\n",
       "    <tr>\n",
       "      <th>2018-01-02</th>\n",
       "      <td>759</td>\n",
       "    </tr>\n",
       "    <tr>\n",
       "      <th>2018-01-03</th>\n",
       "      <td>1097</td>\n",
       "    </tr>\n",
       "    <tr>\n",
       "      <th>2018-01-04</th>\n",
       "      <td>1112</td>\n",
       "    </tr>\n",
       "    <tr>\n",
       "      <th>2018-01-05</th>\n",
       "      <td>1004</td>\n",
       "    </tr>\n",
       "    <tr>\n",
       "      <th>...</th>\n",
       "      <td>...</td>\n",
       "    </tr>\n",
       "    <tr>\n",
       "      <th>2018-03-27</th>\n",
       "      <td>2756</td>\n",
       "    </tr>\n",
       "    <tr>\n",
       "      <th>2018-03-28</th>\n",
       "      <td>3640</td>\n",
       "    </tr>\n",
       "    <tr>\n",
       "      <th>2018-03-29</th>\n",
       "      <td>2800</td>\n",
       "    </tr>\n",
       "    <tr>\n",
       "      <th>2018-03-30</th>\n",
       "      <td>2913</td>\n",
       "    </tr>\n",
       "    <tr>\n",
       "      <th>2018-03-31</th>\n",
       "      <td>1844</td>\n",
       "    </tr>\n",
       "  </tbody>\n",
       "</table>\n",
       "<p>90 rows × 1 columns</p>\n",
       "</div>"
      ],
      "text/plain": [
       "            trip_id\n",
       "start_time         \n",
       "2018-01-01      191\n",
       "2018-01-02      759\n",
       "2018-01-03     1097\n",
       "2018-01-04     1112\n",
       "2018-01-05     1004\n",
       "...             ...\n",
       "2018-03-27     2756\n",
       "2018-03-28     3640\n",
       "2018-03-29     2800\n",
       "2018-03-30     2913\n",
       "2018-03-31     1844\n",
       "\n",
       "[90 rows x 1 columns]"
      ]
     },
     "execution_count": 8,
     "metadata": {},
     "output_type": "execute_result"
    }
   ],
   "source": [
    "#В данных имеется как дата аренды, так и её точное время начала и окончания с точностью до секунд. \n",
    "#Применим метод pd.resample() и агрегируем данные по дням:\n",
    "\n",
    "res = bikes_Q1.resample(rule='D').agg({'trip_id': 'count'})\n",
    "res"
   ]
  },
  {
   "cell_type": "code",
   "execution_count": 11,
   "id": "d4620ec5",
   "metadata": {},
   "outputs": [],
   "source": [
    "#Посмотрим на распределение количества аренд для разных групп пользователей (usertype) — customers и subscribers \n",
    "#в данных за апрель:\n",
    "\n",
    "df = pd.read_csv('/Users/siarheimasliankou/Documents/Work/DA_Practice/Python/Task_8/Tasks_from_3_topic/bikes_april.csv')"
   ]
  },
  {
   "cell_type": "code",
   "execution_count": 14,
   "id": "edc9a2c9",
   "metadata": {},
   "outputs": [],
   "source": [
    "df['start_time'] = pd.to_datetime(df['start_time'])\n",
    "df['end_time'] = pd.to_datetime(df['end_time'])"
   ]
  },
  {
   "cell_type": "code",
   "execution_count": 16,
   "id": "5f8cf569",
   "metadata": {},
   "outputs": [],
   "source": [
    "df.sort_values(by='start_time', inplace=True)\n",
    "\n",
    "df = df.set_index('start_time')"
   ]
  },
  {
   "cell_type": "code",
   "execution_count": 54,
   "id": "932e5590",
   "metadata": {},
   "outputs": [
    {
     "data": {
      "text/html": [
       "<div>\n",
       "<style scoped>\n",
       "    .dataframe tbody tr th:only-of-type {\n",
       "        vertical-align: middle;\n",
       "    }\n",
       "\n",
       "    .dataframe tbody tr th {\n",
       "        vertical-align: top;\n",
       "    }\n",
       "\n",
       "    .dataframe thead th {\n",
       "        text-align: right;\n",
       "    }\n",
       "</style>\n",
       "<table border=\"1\" class=\"dataframe\">\n",
       "  <thead>\n",
       "    <tr style=\"text-align: right;\">\n",
       "      <th></th>\n",
       "      <th></th>\n",
       "      <th>trip_id</th>\n",
       "    </tr>\n",
       "    <tr>\n",
       "      <th>usertype</th>\n",
       "      <th>start_time</th>\n",
       "      <th></th>\n",
       "    </tr>\n",
       "  </thead>\n",
       "  <tbody>\n",
       "    <tr>\n",
       "      <th>Customer</th>\n",
       "      <th>2018-04-18</th>\n",
       "      <td>45</td>\n",
       "    </tr>\n",
       "    <tr>\n",
       "      <th>Subscriber</th>\n",
       "      <th>2018-04-18</th>\n",
       "      <td>2196</td>\n",
       "    </tr>\n",
       "  </tbody>\n",
       "</table>\n",
       "</div>"
      ],
      "text/plain": [
       "                       trip_id\n",
       "usertype   start_time         \n",
       "Customer   2018-04-18       45\n",
       "Subscriber 2018-04-18     2196"
      ]
     },
     "execution_count": 54,
     "metadata": {},
     "output_type": "execute_result"
    }
   ],
   "source": [
    "#Сделаем ресемпл по дням для каждой группы:\n",
    "\n",
    "apr = df.groupby('usertype').resample(rule='D').agg({'trip_id': 'count'})\n",
    "\n",
    "#Посмотрим, для примера, данные за 18 апреля:\n",
    "\n",
    "sp_date = '2018-04-18'\n",
    "w = apr.loc[(slice(None), sp_date), :]\n",
    "w"
   ]
  }
 ],
 "metadata": {
  "kernelspec": {
   "display_name": "Python 3 (ipykernel)",
   "language": "python",
   "name": "python3"
  },
  "language_info": {
   "codemirror_mode": {
    "name": "ipython",
    "version": 3
   },
   "file_extension": ".py",
   "mimetype": "text/x-python",
   "name": "python",
   "nbconvert_exporter": "python",
   "pygments_lexer": "ipython3",
   "version": "3.11.7"
  }
 },
 "nbformat": 4,
 "nbformat_minor": 5
}
