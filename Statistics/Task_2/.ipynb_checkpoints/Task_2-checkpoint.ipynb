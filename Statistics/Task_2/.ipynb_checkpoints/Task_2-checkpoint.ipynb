{
 "cells": [
  {
   "cell_type": "markdown",
   "id": "939900ba",
   "metadata": {},
   "source": [
    "Посчитаем несколько продуктовых метрик и посмотрим, какие распределения могут встретиться на практике.\n",
    "\n",
    "Задание:\n",
    "\n",
    "1) Загрузим данные, проверим число наблюдений и столбцов, типы данных, наличие пропущенных значений, какие уникальные значения встречаются.\n",
    "\n",
    "2) Построить график распределения числа показов (Impressions) для каждой рекламы, прологарифмировав значения.\n",
    "\n",
    "3) Создать новую колонку c CTR. Посмотреть на описательные статистики и распределение.\n",
    "\n",
    "4) Проанализировать CTR с разбивкой по рекламной кампании.\n",
    "\n",
    "5) Посчитать стоимость за клик пользователя по объявлению (CPC). Изучить полученные значения, используя меры центральной тенденции и меры изменчивости. \n",
    "\n",
    "6) Визуализировать CPC с разбивкой по полу пользователей, которым были показаны объявления. \n",
    "\n",
    "7) Посчитать конверсию из клика в покупку.\n",
    "\n",
    "Описание данных:\n",
    "\n",
    "**ad_id** – идентификатор объявления (рекламы).\n",
    "\n",
    "**xyz_campaign_id** – идентификатор рекламной кампании в базе компании X.\n",
    "\n",
    "**fb_campaign_id** – идентификатор кампании в Facebook.\n",
    "\n",
    "**age** – возрастная группа, которой показывалась реклама.\n",
    "\n",
    "**gender** – пол тех, кому показывалась реклама.\n",
    "\n",
    "**interest** – код, указывающий категорию, к которой относится интерес пользователя (соответствие число – интерес, условно: 1 – животные, 2 – автомобили, 3 – тортики и т.д.).\n",
    "\n",
    "**impressions** – число показов.\n",
    "\n",
    "**clicks** – число кликов.\n",
    "\n",
    "**spent** – сумма, которую компания потратила на показ объявления.\n",
    "\n",
    "**total_conversion** – количество людей, которые заинтересовались продуктом после просмотра рекламы.\n",
    "\n",
    "**approved_conversion** – количество людей, которые купили продукт после просмотра рекламы."
   ]
  },
  {
   "cell_type": "code",
   "execution_count": 151,
   "id": "94ae2621",
   "metadata": {},
   "outputs": [],
   "source": [
    "import pandas as pd\n",
    "import scipy\n",
    "from scipy import stats\n",
    "from scipy import linalg\n",
    "import numpy as np\n",
    "import seaborn as sns\n",
    "import matplotlib.pyplot as plt\n",
    "import scipy.stats as ss"
   ]
  },
  {
   "cell_type": "code",
   "execution_count": 152,
   "id": "b3dbff66",
   "metadata": {},
   "outputs": [
    {
     "data": {
      "text/plain": [
       "ad_id                  0\n",
       "xyz_campaign_id        0\n",
       "fb_campaign_id         0\n",
       "age                    0\n",
       "gender                 0\n",
       "interest               0\n",
       "Impressions            0\n",
       "Clicks                 0\n",
       "Spent                  0\n",
       "Total_Conversion       0\n",
       "Approved_Conversion    0\n",
       "dtype: int64"
      ]
     },
     "execution_count": 152,
     "metadata": {},
     "output_type": "execute_result"
    }
   ],
   "source": [
    "#Загружаем данные и смотрим количество пустых значений по столбцам\n",
    "df = pd.read_csv(\"/Users/siarheimasliankou/Documents/Work/DA_Practice/Statistics/Task_2/conversion.csv\")\n",
    "df.isna().sum()"
   ]
  },
  {
   "cell_type": "code",
   "execution_count": 153,
   "id": "7989b26f",
   "metadata": {},
   "outputs": [
    {
     "data": {
      "text/plain": [
       "(1143, 11)"
      ]
     },
     "execution_count": 153,
     "metadata": {},
     "output_type": "execute_result"
    }
   ],
   "source": [
    "df.shape"
   ]
  },
  {
   "cell_type": "code",
   "execution_count": 154,
   "id": "00418c76",
   "metadata": {},
   "outputs": [
    {
     "data": {
      "text/plain": [
       "3"
      ]
     },
     "execution_count": 154,
     "metadata": {},
     "output_type": "execute_result"
    }
   ],
   "source": [
    "df.xyz_campaign_id.nunique()"
   ]
  },
  {
   "cell_type": "code",
   "execution_count": 155,
   "id": "a322dc4c",
   "metadata": {},
   "outputs": [
    {
     "data": {
      "text/html": [
       "<div>\n",
       "<style scoped>\n",
       "    .dataframe tbody tr th:only-of-type {\n",
       "        vertical-align: middle;\n",
       "    }\n",
       "\n",
       "    .dataframe tbody tr th {\n",
       "        vertical-align: top;\n",
       "    }\n",
       "\n",
       "    .dataframe thead th {\n",
       "        text-align: right;\n",
       "    }\n",
       "</style>\n",
       "<table border=\"1\" class=\"dataframe\">\n",
       "  <thead>\n",
       "    <tr style=\"text-align: right;\">\n",
       "      <th></th>\n",
       "      <th>fb_campaign_id</th>\n",
       "      <th>Impressions</th>\n",
       "    </tr>\n",
       "  </thead>\n",
       "  <tbody>\n",
       "    <tr>\n",
       "      <th>0</th>\n",
       "      <td>103916</td>\n",
       "      <td>7350</td>\n",
       "    </tr>\n",
       "    <tr>\n",
       "      <th>1</th>\n",
       "      <td>103917</td>\n",
       "      <td>17861</td>\n",
       "    </tr>\n",
       "    <tr>\n",
       "      <th>2</th>\n",
       "      <td>103920</td>\n",
       "      <td>693</td>\n",
       "    </tr>\n",
       "    <tr>\n",
       "      <th>3</th>\n",
       "      <td>103928</td>\n",
       "      <td>8392</td>\n",
       "    </tr>\n",
       "    <tr>\n",
       "      <th>4</th>\n",
       "      <td>103929</td>\n",
       "      <td>1915</td>\n",
       "    </tr>\n",
       "    <tr>\n",
       "      <th>...</th>\n",
       "      <td>...</td>\n",
       "      <td>...</td>\n",
       "    </tr>\n",
       "    <tr>\n",
       "      <th>686</th>\n",
       "      <td>179977</td>\n",
       "      <td>1129773</td>\n",
       "    </tr>\n",
       "    <tr>\n",
       "      <th>687</th>\n",
       "      <td>179978</td>\n",
       "      <td>637549</td>\n",
       "    </tr>\n",
       "    <tr>\n",
       "      <th>688</th>\n",
       "      <td>179979</td>\n",
       "      <td>151531</td>\n",
       "    </tr>\n",
       "    <tr>\n",
       "      <th>689</th>\n",
       "      <td>179981</td>\n",
       "      <td>790253</td>\n",
       "    </tr>\n",
       "    <tr>\n",
       "      <th>690</th>\n",
       "      <td>179982</td>\n",
       "      <td>513161</td>\n",
       "    </tr>\n",
       "  </tbody>\n",
       "</table>\n",
       "<p>691 rows × 2 columns</p>\n",
       "</div>"
      ],
      "text/plain": [
       "     fb_campaign_id  Impressions\n",
       "0            103916         7350\n",
       "1            103917        17861\n",
       "2            103920          693\n",
       "3            103928         8392\n",
       "4            103929         1915\n",
       "..              ...          ...\n",
       "686          179977      1129773\n",
       "687          179978       637549\n",
       "688          179979       151531\n",
       "689          179981       790253\n",
       "690          179982       513161\n",
       "\n",
       "[691 rows x 2 columns]"
      ]
     },
     "execution_count": 155,
     "metadata": {},
     "output_type": "execute_result"
    }
   ],
   "source": [
    "#Строим график распределения числа показов (Impressions – сколько раз пользователи увидели данное объявление) для каждой рекламной кампании в Facebook, прологарифмировав значения \n",
    "#c помощью np.log()\n",
    "\n",
    "d = df.groupby('fb_campaign_id', as_index = False)\\\n",
    "      .agg({'Impressions': 'sum'})\n",
    "d"
   ]
  },
  {
   "cell_type": "code",
   "execution_count": 156,
   "id": "98715885",
   "metadata": {},
   "outputs": [
    {
     "data": {
      "text/plain": [
       "fb_campaign_id\n",
       "103916     8.902456\n",
       "103917     9.790375\n",
       "103920     6.541030\n",
       "103928     9.035034\n",
       "103929     7.557473\n",
       "            ...    \n",
       "179977    13.937527\n",
       "179978    13.365386\n",
       "179979    11.928546\n",
       "179981    13.580108\n",
       "179982    13.148345\n",
       "Name: Impressions, Length: 691, dtype: float64"
      ]
     },
     "execution_count": 156,
     "metadata": {},
     "output_type": "execute_result"
    }
   ],
   "source": [
    "#Альтернативный способ\n",
    "d = df.groupby('fb_campaign_id').sum('Impressions')\n",
    "f = np.log(d.Impressions)\n",
    "f"
   ]
  },
  {
   "cell_type": "code",
   "execution_count": 157,
   "id": "cf5240c2",
   "metadata": {},
   "outputs": [
    {
     "name": "stderr",
     "output_type": "stream",
     "text": [
      "/var/folders/m8/68839tv13t51_96pglc60m600000gn/T/ipykernel_43599/940425893.py:3: UserWarning: \n",
      "\n",
      "`distplot` is a deprecated function and will be removed in seaborn v0.14.0.\n",
      "\n",
      "Please adapt your code to use either `displot` (a figure-level function with\n",
      "similar flexibility) or `histplot` (an axes-level function for histograms).\n",
      "\n",
      "For a guide to updating your code to use the new functions, please see\n",
      "https://gist.github.com/mwaskom/de44147ed2974457ad6372750bbe5751\n",
      "\n",
      "  r = sns.distplot(f, kde = False)\n"
     ]
    },
    {
     "data": {
      "image/png": "[encoded data removed]",
      "text/plain": [
       "<Figure size 640x480 with 1 Axes>"
      ]
     },
     "metadata": {},
     "output_type": "display_data"
    }
   ],
   "source": [
    "#Построим график\n",
    "\n",
    "r = sns.distplot(f, kde = False)"
   ]
  },
  {
   "cell_type": "code",
   "execution_count": 158,
   "id": "731713c6",
   "metadata": {},
   "outputs": [],
   "source": [
    "#Теперь посчитаем ещё несколько полезных метрик. Первая – CTR (click-through rate), \n",
    "#которая показывает кликабельность, т.е. отношение числа кликов к количеству показов\n",
    "#Создадим новую колонку, затем посмотрите на описательные статистики. \n",
    "#В качестве ответа укажем ad_id объявления с наибольшим CTR.\n",
    "\n",
    "df['CTR'] = df['Clicks']/df['Impressions']"
   ]
  },
  {
   "cell_type": "code",
   "execution_count": 159,
   "id": "35be47e6",
   "metadata": {},
   "outputs": [
    {
     "data": {
      "text/plain": [
       "count    1143.000000\n",
       "mean        0.000164\n",
       "std         0.000115\n",
       "min         0.000000\n",
       "25%         0.000100\n",
       "50%         0.000160\n",
       "75%         0.000234\n",
       "max         0.001059\n",
       "Name: CTR, dtype: float64"
      ]
     },
     "execution_count": 159,
     "metadata": {},
     "output_type": "execute_result"
    }
   ],
   "source": [
    "t = df['CTR'].describe()\n",
    "t"
   ]
  },
  {
   "cell_type": "code",
   "execution_count": 160,
   "id": "6da7232f",
   "metadata": {},
   "outputs": [
    {
     "data": {
      "text/html": [
       "<div>\n",
       "<style scoped>\n",
       "    .dataframe tbody tr th:only-of-type {\n",
       "        vertical-align: middle;\n",
       "    }\n",
       "\n",
       "    .dataframe tbody tr th {\n",
       "        vertical-align: top;\n",
       "    }\n",
       "\n",
       "    .dataframe thead th {\n",
       "        text-align: right;\n",
       "    }\n",
       "</style>\n",
       "<table border=\"1\" class=\"dataframe\">\n",
       "  <thead>\n",
       "    <tr style=\"text-align: right;\">\n",
       "      <th></th>\n",
       "      <th>ad_id</th>\n",
       "      <th>CTR</th>\n",
       "    </tr>\n",
       "  </thead>\n",
       "  <tbody>\n",
       "    <tr>\n",
       "      <th>150</th>\n",
       "      <td>738637</td>\n",
       "      <td>0.001059</td>\n",
       "    </tr>\n",
       "    <tr>\n",
       "      <th>440</th>\n",
       "      <td>950224</td>\n",
       "      <td>0.000845</td>\n",
       "    </tr>\n",
       "    <tr>\n",
       "      <th>505</th>\n",
       "      <td>951779</td>\n",
       "      <td>0.000610</td>\n",
       "    </tr>\n",
       "    <tr>\n",
       "      <th>476</th>\n",
       "      <td>951202</td>\n",
       "      <td>0.000565</td>\n",
       "    </tr>\n",
       "    <tr>\n",
       "      <th>448</th>\n",
       "      <td>950537</td>\n",
       "      <td>0.000531</td>\n",
       "    </tr>\n",
       "    <tr>\n",
       "      <th>...</th>\n",
       "      <td>...</td>\n",
       "      <td>...</td>\n",
       "    </tr>\n",
       "    <tr>\n",
       "      <th>270</th>\n",
       "      <td>777166</td>\n",
       "      <td>0.000000</td>\n",
       "    </tr>\n",
       "    <tr>\n",
       "      <th>269</th>\n",
       "      <td>777131</td>\n",
       "      <td>0.000000</td>\n",
       "    </tr>\n",
       "    <tr>\n",
       "      <th>268</th>\n",
       "      <td>777130</td>\n",
       "      <td>0.000000</td>\n",
       "    </tr>\n",
       "    <tr>\n",
       "      <th>266</th>\n",
       "      <td>776935</td>\n",
       "      <td>0.000000</td>\n",
       "    </tr>\n",
       "    <tr>\n",
       "      <th>181</th>\n",
       "      <td>747879</td>\n",
       "      <td>0.000000</td>\n",
       "    </tr>\n",
       "  </tbody>\n",
       "</table>\n",
       "<p>1143 rows × 2 columns</p>\n",
       "</div>"
      ],
      "text/plain": [
       "      ad_id       CTR\n",
       "150  738637  0.001059\n",
       "440  950224  0.000845\n",
       "505  951779  0.000610\n",
       "476  951202  0.000565\n",
       "448  950537  0.000531\n",
       "..      ...       ...\n",
       "270  777166  0.000000\n",
       "269  777131  0.000000\n",
       "268  777130  0.000000\n",
       "266  776935  0.000000\n",
       "181  747879  0.000000\n",
       "\n",
       "[1143 rows x 2 columns]"
      ]
     },
     "execution_count": 160,
     "metadata": {},
     "output_type": "execute_result"
    }
   ],
   "source": [
    "k = df.groupby('ad_id', as_index = False)\\\n",
    "      .agg({'CTR': 'max'})\\\n",
    "      .sort_values(by='CTR', ascending=False)\n",
    "k"
   ]
  },
  {
   "cell_type": "code",
   "execution_count": 161,
   "id": "cfb41caf",
   "metadata": {},
   "outputs": [
    {
     "name": "stderr",
     "output_type": "stream",
     "text": [
      "/opt/anaconda3/lib/python3.11/site-packages/seaborn/_oldcore.py:1119: FutureWarning: use_inf_as_na option is deprecated and will be removed in a future version. Convert inf values to NaN before operating instead.\n",
      "  with pd.option_context('mode.use_inf_as_na', True):\n"
     ]
    },
    {
     "data": {
      "image/png": "[encoded data removed]",
      "text/plain": [
       "<Figure size 1000x600 with 1 Axes>"
      ]
     },
     "metadata": {},
     "output_type": "display_data"
    }
   ],
   "source": [
    "#Визуализируeм CTR с разбивкой по номеру рекламной кампании (xyz_campaign_id). \n",
    "#Построим график распределения CTR кампании 916?\n",
    "\n",
    "b = df.query('xyz_campaign_id == 916')\n",
    "plt.figure(figsize=(10, 6))\n",
    "sns.histplot(b['CTR'], bins=20, kde=False)\n",
    "\n",
    "plt.title('Распределение значений CTR')\n",
    "plt.xlabel('CTR')\n",
    "plt.ylabel('Частота')\n",
    "\n",
    "\n",
    "plt.show()"
   ]
  },
  {
   "cell_type": "code",
   "execution_count": 162,
   "id": "13c0da92",
   "metadata": {},
   "outputs": [
    {
     "data": {
      "text/plain": [
       "count    936.000000\n",
       "mean       1.499347\n",
       "std        0.232879\n",
       "min        0.180000\n",
       "25%        1.390000\n",
       "50%        1.498273\n",
       "75%        1.644364\n",
       "max        2.212000\n",
       "Name: CPC, dtype: float64"
      ]
     },
     "execution_count": 162,
     "metadata": {},
     "output_type": "execute_result"
    }
   ],
   "source": [
    "#Рассчитаем CPC (cost-per-click) – стоимость за клик пользователя по объявлению. \n",
    "#Рассчитывается путём деления суммы потраченных денег на общее число кликов\n",
    "\n",
    "df['CPC'] = df['Spent']/df['Clicks']\n",
    "\n",
    "#Выводим описательные статистики для столбца\n",
    "df['CPC'].describe()"
   ]
  },
  {
   "cell_type": "code",
   "execution_count": 163,
   "id": "e3341639",
   "metadata": {},
   "outputs": [
    {
     "data": {
      "text/plain": [
       "0.25436400000000003"
      ]
     },
     "execution_count": 163,
     "metadata": {},
     "output_type": "execute_result"
    }
   ],
   "source": [
    "#Cчитаем межквартильный размах\n",
    "1.644364-1.390000"
   ]
  },
  {
   "cell_type": "code",
   "execution_count": 164,
   "id": "c033ec8a",
   "metadata": {},
   "outputs": [
    {
     "data": {
      "text/plain": [
       "0.2543636990499998"
      ]
     },
     "execution_count": 164,
     "metadata": {},
     "output_type": "execute_result"
    }
   ],
   "source": [
    "##Cчитаем межквартильный размах через scipy.stats\n",
    "IQR = ss.iqr(df['CPC'], nan_policy='omit')\n",
    "IQR"
   ]
  },
  {
   "cell_type": "code",
   "execution_count": 165,
   "id": "4cd167f4",
   "metadata": {},
   "outputs": [],
   "source": [
    "#Удаляем пропущенные значения\n",
    "df_cleaned = df.dropna(subset=['CPC'])"
   ]
  },
  {
   "cell_type": "code",
   "execution_count": 166,
   "id": "8a7b71a0",
   "metadata": {},
   "outputs": [
    {
     "name": "stderr",
     "output_type": "stream",
     "text": [
      "/opt/anaconda3/lib/python3.11/site-packages/seaborn/_oldcore.py:1119: FutureWarning: use_inf_as_na option is deprecated and will be removed in a future version. Convert inf values to NaN before operating instead.\n",
      "  with pd.option_context('mode.use_inf_as_na', True):\n"
     ]
    },
    {
     "data": {
      "text/plain": [
       "<Axes: xlabel='CPC', ylabel='Count'>"
      ]
     },
     "execution_count": 166,
     "metadata": {},
     "output_type": "execute_result"
    },
    {
     "data": {
      "image/png": "[encoded data removed]",
      "text/plain": [
       "<Figure size 1000x600 with 1 Axes>"
      ]
     },
     "metadata": {},
     "output_type": "display_data"
    }
   ],
   "source": [
    "#Добавляем график\n",
    "plt.figure(figsize=(10, 6))\n",
    "sns.histplot(df_cleaned['CPC'], bins=20, kde=False)"
   ]
  },
  {
   "cell_type": "code",
   "execution_count": 167,
   "id": "20813ace",
   "metadata": {},
   "outputs": [
    {
     "name": "stderr",
     "output_type": "stream",
     "text": [
      "/var/folders/m8/68839tv13t51_96pglc60m600000gn/T/ipykernel_43599/1400930309.py:7: UserWarning: \n",
      "\n",
      "`distplot` is a deprecated function and will be removed in seaborn v0.14.0.\n",
      "\n",
      "Please adapt your code to use either `displot` (a figure-level function with\n",
      "similar flexibility) or `histplot` (an axes-level function for histograms).\n",
      "\n",
      "For a guide to updating your code to use the new functions, please see\n",
      "https://gist.github.com/mwaskom/de44147ed2974457ad6372750bbe5751\n",
      "\n",
      "  sns.distplot(mm['CPC'])\n",
      "/opt/anaconda3/lib/python3.11/site-packages/seaborn/_oldcore.py:1119: FutureWarning: use_inf_as_na option is deprecated and will be removed in a future version. Convert inf values to NaN before operating instead.\n",
      "  with pd.option_context('mode.use_inf_as_na', True):\n",
      "/var/folders/m8/68839tv13t51_96pglc60m600000gn/T/ipykernel_43599/1400930309.py:8: UserWarning: \n",
      "\n",
      "`distplot` is a deprecated function and will be removed in seaborn v0.14.0.\n",
      "\n",
      "Please adapt your code to use either `displot` (a figure-level function with\n",
      "similar flexibility) or `histplot` (an axes-level function for histograms).\n",
      "\n",
      "For a guide to updating your code to use the new functions, please see\n",
      "https://gist.github.com/mwaskom/de44147ed2974457ad6372750bbe5751\n",
      "\n",
      "  sns.distplot(wm['CPC'])\n",
      "/opt/anaconda3/lib/python3.11/site-packages/seaborn/_oldcore.py:1119: FutureWarning: use_inf_as_na option is deprecated and will be removed in a future version. Convert inf values to NaN before operating instead.\n",
      "  with pd.option_context('mode.use_inf_as_na', True):\n"
     ]
    },
    {
     "data": {
      "text/plain": [
       "<Axes: xlabel='CPC', ylabel='Density'>"
      ]
     },
     "execution_count": 167,
     "metadata": {},
     "output_type": "execute_result"
    },
    {
     "data": {
      "image/png": "[encoded data removed]",
      "text/plain": [
       "<Figure size 1000x600 with 1 Axes>"
      ]
     },
     "metadata": {},
     "output_type": "display_data"
    }
   ],
   "source": [
    "#Визуализируем CPC с разбивкой по полу пользователей, которым были показаны объявления.\n",
    "m = df_cleaned[['gender', 'CPC']]\n",
    "mm = df_cleaned.query(\"gender == 'M'\")\n",
    "wm = df_cleaned.query(\"gender == 'F'\")\n",
    "#Строим графики\n",
    "plt.figure(figsize=(10, 6))\n",
    "sns.distplot(mm['CPC'])\n",
    "sns.distplot(wm['CPC'])"
   ]
  },
  {
   "cell_type": "code",
   "execution_count": 168,
   "id": "028c3a73",
   "metadata": {},
   "outputs": [
    {
     "data": {
      "text/html": [
       "<div>\n",
       "<style scoped>\n",
       "    .dataframe tbody tr th:only-of-type {\n",
       "        vertical-align: middle;\n",
       "    }\n",
       "\n",
       "    .dataframe tbody tr th {\n",
       "        vertical-align: top;\n",
       "    }\n",
       "\n",
       "    .dataframe thead th {\n",
       "        text-align: right;\n",
       "    }\n",
       "</style>\n",
       "<table border=\"1\" class=\"dataframe\">\n",
       "  <thead>\n",
       "    <tr style=\"text-align: right;\">\n",
       "      <th></th>\n",
       "      <th>ad_id</th>\n",
       "      <th>xyz_campaign_id</th>\n",
       "      <th>fb_campaign_id</th>\n",
       "      <th>age</th>\n",
       "      <th>gender</th>\n",
       "      <th>interest</th>\n",
       "      <th>Impressions</th>\n",
       "      <th>Clicks</th>\n",
       "      <th>Spent</th>\n",
       "      <th>Total_Conversion</th>\n",
       "      <th>Approved_Conversion</th>\n",
       "      <th>CTR</th>\n",
       "      <th>CPC</th>\n",
       "      <th>Conversion</th>\n",
       "    </tr>\n",
       "  </thead>\n",
       "  <tbody>\n",
       "    <tr>\n",
       "      <th>860</th>\n",
       "      <td>1121814</td>\n",
       "      <td>1178</td>\n",
       "      <td>144659</td>\n",
       "      <td>30-34</td>\n",
       "      <td>F</td>\n",
       "      <td>27</td>\n",
       "      <td>2223278</td>\n",
       "      <td>421</td>\n",
       "      <td>612.300003</td>\n",
       "      <td>38</td>\n",
       "      <td>13</td>\n",
       "      <td>0.000189</td>\n",
       "      <td>1.454394</td>\n",
       "      <td>0.030879</td>\n",
       "    </tr>\n",
       "  </tbody>\n",
       "</table>\n",
       "</div>"
      ],
      "text/plain": [
       "       ad_id  xyz_campaign_id  fb_campaign_id    age gender  interest  \\\n",
       "860  1121814             1178          144659  30-34      F        27   \n",
       "\n",
       "     Impressions  Clicks       Spent  Total_Conversion  Approved_Conversion  \\\n",
       "860      2223278     421  612.300003                38                   13   \n",
       "\n",
       "          CTR       CPC  Conversion  \n",
       "860  0.000189  1.454394    0.030879  "
      ]
     },
     "execution_count": 168,
     "metadata": {},
     "output_type": "execute_result"
    }
   ],
   "source": [
    "#Посчитаем конверсию из клика в покупку. \n",
    "df['Conversion'] = df['Approved_Conversion']/df['Clicks']\n",
    "\n",
    "#Также, посчитаем конверсию для объявления 1121814 в процентах, округлив значение до 2 знаков после точки.\n",
    "c = df[df['ad_id'] == 1121814]\n",
    "c"
   ]
  },
  {
   "cell_type": "code",
   "execution_count": 169,
   "id": "d649e6f7",
   "metadata": {},
   "outputs": [
    {
     "data": {
      "text/plain": [
       "3.09"
      ]
     },
     "execution_count": 169,
     "metadata": {},
     "output_type": "execute_result"
    }
   ],
   "source": [
    "#Переведем в проценты и округлим\n",
    "conv_in_percent = 0.030879 * 100  \n",
    "conv_in_percent_rounded = round(conv_in_percent, 2)\n",
    "conv_in_percent_rounded"
   ]
  }
 ],
 "metadata": {
  "kernelspec": {
   "display_name": "Python 3 (ipykernel)",
   "language": "python",
   "name": "python3"
  },
  "language_info": {
   "codemirror_mode": {
    "name": "ipython",
    "version": 3
   },
   "file_extension": ".py",
   "mimetype": "text/x-python",
   "name": "python",
   "nbconvert_exporter": "python",
   "pygments_lexer": "ipython3",
   "version": "3.11.7"
  }
 },
 "nbformat": 4,
 "nbformat_minor": 5
}
