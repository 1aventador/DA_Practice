{
 "cells": [
  {
   "cell_type": "code",
   "execution_count": 19,
   "id": "d430c7c6",
   "metadata": {},
   "outputs": [],
   "source": [
    "import pandas as pd\n",
    "import numpy as np\n",
    "import math"
   ]
  },
  {
   "cell_type": "code",
   "execution_count": 3,
   "id": "6279b048",
   "metadata": {},
   "outputs": [
    {
     "data": {
      "text/plain": [
       "2.5267568145747625"
      ]
     },
     "execution_count": 3,
     "metadata": {},
     "output_type": "execute_result"
    }
   ],
   "source": [
    "#x = 89.9\n",
    "#sd = 11.3\n",
    "#n = 20\n",
    "\n",
    "#Рассчитываем standart error для выборки\n",
    "#se = 11.3 / 20 ** 0.5"
   ]
  },
  {
   "cell_type": "code",
   "execution_count": 5,
   "id": "ab79ac28",
   "metadata": {},
   "outputs": [
    {
     "data": {
      "text/plain": [
       "95.18850201290499"
      ]
     },
     "execution_count": 5,
     "metadata": {},
     "output_type": "execute_result"
    }
   ],
   "source": [
    "#Рассчитаем верхнюю границу доверительного интервала\n",
    "#t1 = x + 2.093*se\n"
   ]
  },
  {
   "cell_type": "code",
   "execution_count": 7,
   "id": "124c9f93",
   "metadata": {},
   "outputs": [
    {
     "data": {
      "text/plain": [
       "84.61149798709502"
      ]
     },
     "execution_count": 7,
     "metadata": {},
     "output_type": "execute_result"
    }
   ],
   "source": [
    "#Рассчитаем нижнюю границу доверительного интервала\n",
    "#t2 = x - 2.093*se"
   ]
  },
  {
   "cell_type": "code",
   "execution_count": null,
   "id": "159537f6",
   "metadata": {},
   "outputs": [],
   "source": [
    "#=================================================================================================================="
   ]
  },
  {
   "cell_type": "code",
   "execution_count": 17,
   "id": "060df3e5",
   "metadata": {},
   "outputs": [],
   "source": [
    "#Пример 2\n",
    "\n",
    "#Первые премии Оскар за лучшую мужскую и женскую роль были вручены в 1929. \n",
    "#Данные гистограммы демонстрируют распределение возраста победителей с 1929 по 2014 год (100 мужчин, 100 женщин). \n",
    "#Используя t-критерий, проверим, можно ли считать наблюдаемые различия \n",
    "#в возрасте между лучшими актрисами и актерами  статистически достоверными.\n",
    "\n",
    "#Средний возраст мужчин равен 45, sd = 9.\n",
    "\n",
    "#Средний возраст женщин равен 34, sd = 10."
   ]
  },
  {
   "cell_type": "code",
   "execution_count": 20,
   "id": "c552177e",
   "metadata": {},
   "outputs": [
    {
     "name": "stdout",
     "output_type": "stream",
     "text": [
      "t-значение: 8.176235608718828\n"
     ]
    }
   ],
   "source": [
    "import math\n",
    "\n",
    "# Задаем входные значения\n",
    "x = 45\n",
    "mu = 34\n",
    "sd1 = 9\n",
    "sd2 = 10\n",
    "n1 = 100\n",
    "n2 = 100\n",
    "\n",
    "# Расчет разницы\n",
    "delta = x - mu\n",
    "\n",
    "# Расчет дисперсий\n",
    "var1 = sd1 ** 2\n",
    "var2 = sd2 ** 2\n",
    "\n",
    "# Взвешенная сумма дисперсий, деленная на размеры выборок\n",
    "S = (var1 / n1) + (var2 / n2)\n",
    "\n",
    "# Квадратный корень от суммы\n",
    "S_sqrt = math.sqrt(S)\n",
    "\n",
    "# Расчет t-значения\n",
    "t_value = delta / S_sqrt\n",
    "\n",
    "print(f\"t-значение: {t_value}\")\n"
   ]
  },
  {
   "cell_type": "code",
   "execution_count": null,
   "id": "4f251148",
   "metadata": {},
   "outputs": [],
   "source": [
    "#P(X < -8.176 or X > 8.176) = 3.46e-14\n",
    "p = 0.0000000000000346\n",
    "#Отвергаем нулевую гипотезу p<0.05"
   ]
  },
  {
   "cell_type": "code",
   "execution_count": null,
   "id": "e72af0cc",
   "metadata": {},
   "outputs": [],
   "source": []
  }
 ],
 "metadata": {
  "kernelspec": {
   "display_name": "Python 3 (ipykernel)",
   "language": "python",
   "name": "python3"
  },
  "language_info": {
   "codemirror_mode": {
    "name": "ipython",
    "version": 3
   },
   "file_extension": ".py",
   "mimetype": "text/x-python",
   "name": "python",
   "nbconvert_exporter": "python",
   "pygments_lexer": "ipython3",
   "version": "3.11.7"
  }
 },
 "nbformat": 4,
 "nbformat_minor": 5
}
