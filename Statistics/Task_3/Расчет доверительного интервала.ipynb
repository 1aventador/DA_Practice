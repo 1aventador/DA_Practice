{
 "cells": [
  {
   "cell_type": "code",
   "execution_count": 1,
   "id": "d430c7c6",
   "metadata": {},
   "outputs": [],
   "source": [
    "import pandas as pd\n",
    "import numpy as np"
   ]
  },
  {
   "cell_type": "code",
   "execution_count": 3,
   "id": "95898e43",
   "metadata": {},
   "outputs": [
    {
     "data": {
      "text/plain": [
       "0.5"
      ]
     },
     "execution_count": 3,
     "metadata": {},
     "output_type": "execute_result"
    }
   ],
   "source": [
    "#Рассчитываем 99% доверительный интервал со следующими вводными:\n",
    "\n",
    "#x=10 #среднее \n",
    "#sd=5 #стандартное отклонение\n",
    "#n=100 #размер выборки\n",
    "\n",
    "#se = sd/n ** 0.5 #рассчет стандартной ошибки\n",
    "se"
   ]
  },
  {
   "cell_type": "code",
   "execution_count": 9,
   "id": "8e078e96",
   "metadata": {},
   "outputs": [
    {
     "data": {
      "text/plain": [
       "11.29"
      ]
     },
     "execution_count": 9,
     "metadata": {},
     "output_type": "execute_result"
    }
   ],
   "source": [
    "#a = x + 2.58*se #верхняя граница доверительного интервала\n",
    "a"
   ]
  },
  {
   "cell_type": "code",
   "execution_count": 10,
   "id": "4a3f7a80",
   "metadata": {},
   "outputs": [
    {
     "data": {
      "text/plain": [
       "8.71"
      ]
     },
     "execution_count": 10,
     "metadata": {},
     "output_type": "execute_result"
    }
   ],
   "source": [
    "#b = x - 2.58*se #нижняя граница доверительного интервала\n",
    "b"
   ]
  },
  {
   "cell_type": "code",
   "execution_count": 20,
   "id": "72cfe147",
   "metadata": {},
   "outputs": [
    {
     "data": {
      "text/plain": [
       "0.5"
      ]
     },
     "execution_count": 20,
     "metadata": {},
     "output_type": "execute_result"
    }
   ],
   "source": [
    "#Пример 2\n",
    "\n",
    "#среднее \n",
    "x=18.5\n",
    "#стандартное отклонение\n",
    "sd=4\n",
    "#размер выборки\n",
    "n=64\n",
    "\n",
    "\n",
    "se = sd /n ** 0.5\n",
    "se"
   ]
  },
  {
   "cell_type": "code",
   "execution_count": 21,
   "id": "175142e1",
   "metadata": {},
   "outputs": [
    {
     "data": {
      "text/plain": [
       "19.48"
      ]
     },
     "execution_count": 21,
     "metadata": {},
     "output_type": "execute_result"
    }
   ],
   "source": [
    "c = 18.5 + 1.96* se\n",
    "c"
   ]
  },
  {
   "cell_type": "code",
   "execution_count": 22,
   "id": "42c420ea",
   "metadata": {},
   "outputs": [
    {
     "data": {
      "text/plain": [
       "17.52"
      ]
     },
     "execution_count": 22,
     "metadata": {},
     "output_type": "execute_result"
    }
   ],
   "source": [
    "d = 18.5 - 1.96* se\n",
    "d"
   ]
  },
  {
   "cell_type": "code",
   "execution_count": null,
   "id": "e57c3e47",
   "metadata": {},
   "outputs": [],
   "source": []
  },
  {
   "cell_type": "code",
   "execution_count": null,
   "id": "3c929836",
   "metadata": {},
   "outputs": [],
   "source": [
    "#Пример 3\n",
    "#В среднем слушатели курса по введению в статистику набирают 115 баллов, \n",
    "#однако, в 2015 году средний балл случайно выбранных 144 участников составил 118 со стандартным отклонением равным 9. \n",
    "#Рассчитаем p-уровень значимости для проверки нулевой гипотезы о том, что среднее значение баллов в 2015 году равняется 115."
   ]
  },
  {
   "cell_type": "code",
   "execution_count": 32,
   "id": "e540b17c",
   "metadata": {},
   "outputs": [
    {
     "data": {
      "text/plain": [
       "0.75"
      ]
     },
     "execution_count": 32,
     "metadata": {},
     "output_type": "execute_result"
    }
   ],
   "source": [
    "standart_error = 9 / 144 ** 0.5\n",
    "standart_error"
   ]
  },
  {
   "cell_type": "code",
   "execution_count": 35,
   "id": "da6292be",
   "metadata": {},
   "outputs": [
    {
     "data": {
      "text/plain": [
       "4.0"
      ]
     },
     "execution_count": 35,
     "metadata": {},
     "output_type": "execute_result"
    }
   ],
   "source": [
    "z = 3/standart_error\n",
    "z"
   ]
  },
  {
   "cell_type": "code",
   "execution_count": null,
   "id": "149ba569",
   "metadata": {},
   "outputs": [],
   "source": [
    "#Distribution Calculator\n",
    "#https://gallery.shinyapps.io/dist_calc/\n",
    "\n",
    "#P(X < -4 or X > 4) = 6.33e-05\n",
    "p = 0.0000633\n",
    "#Отвергаем нулевую гипотезу p<0.05"
   ]
  }
 ],
 "metadata": {
  "kernelspec": {
   "display_name": "Python 3 (ipykernel)",
   "language": "python",
   "name": "python3"
  },
  "language_info": {
   "codemirror_mode": {
    "name": "ipython",
    "version": 3
   },
   "file_extension": ".py",
   "mimetype": "text/x-python",
   "name": "python",
   "nbconvert_exporter": "python",
   "pygments_lexer": "ipython3",
   "version": "3.11.7"
  }
 },
 "nbformat": 4,
 "nbformat_minor": 5
}
