{
 "cells": [
  {
   "cell_type": "code",
   "execution_count": 98,
   "id": "cac17847",
   "metadata": {},
   "outputs": [],
   "source": [
    "import pandas as pd\n",
    "import numpy as np\n",
    "import seaborn as sns\n",
    "import scipy.stats as ss\n",
    "import plotly.express as px\n",
    "import matplotlib.pyplot as plt\n",
    "from scipy.stats import chi2_contingency, chi2\n",
    "\n",
    "df = pd.read_csv('/Users/siarheimasliankou/Documents/Work/DA_Practice/Statistics/Task_10/dating_data.csv')\n"
   ]
  },
  {
   "cell_type": "code",
   "execution_count": 96,
   "id": "41a3d1ea",
   "metadata": {},
   "outputs": [
    {
     "data": {
      "text/html": [
       "<div>\n",
       "<style scoped>\n",
       "    .dataframe tbody tr th:only-of-type {\n",
       "        vertical-align: middle;\n",
       "    }\n",
       "\n",
       "    .dataframe tbody tr th {\n",
       "        vertical-align: top;\n",
       "    }\n",
       "\n",
       "    .dataframe thead th {\n",
       "        text-align: right;\n",
       "    }\n",
       "</style>\n",
       "<table border=\"1\" class=\"dataframe\">\n",
       "  <thead>\n",
       "    <tr style=\"text-align: right;\">\n",
       "      <th>is_match</th>\n",
       "      <th>0</th>\n",
       "      <th>1</th>\n",
       "    </tr>\n",
       "    <tr>\n",
       "      <th>group</th>\n",
       "      <th></th>\n",
       "      <th></th>\n",
       "    </tr>\n",
       "  </thead>\n",
       "  <tbody>\n",
       "    <tr>\n",
       "      <th>0</th>\n",
       "      <td>3858</td>\n",
       "      <td>934</td>\n",
       "    </tr>\n",
       "    <tr>\n",
       "      <th>1</th>\n",
       "      <td>5813</td>\n",
       "      <td>3909</td>\n",
       "    </tr>\n",
       "  </tbody>\n",
       "</table>\n",
       "</div>"
      ],
      "text/plain": [
       "is_match     0     1\n",
       "group               \n",
       "0         3858   934\n",
       "1         5813  3909"
      ]
     },
     "execution_count": 96,
     "metadata": {},
     "output_type": "execute_result"
    }
   ],
   "source": [
    "pd.crosstab(df.group, df.is_match)"
   ]
  },
  {
   "cell_type": "code",
   "execution_count": 61,
   "id": "59769f5f",
   "metadata": {},
   "outputs": [],
   "source": [
    "fig = px.histogram(df[['group', 'is_match']].dropna(), x = 'group', color = 'is_match')"
   ]
  },
  {
   "cell_type": "markdown",
   "id": "0e6b1d60",
   "metadata": {},
   "source": [
    "Используем метрику количества взаимных лайков (мэтчей) в контрольной и экспериментальной группах чтобы проверить различаются ли статистически две группы.\n",
    "\n",
    "H0: значимых различий в контрольной и экспериментальной группах нет.\n",
    "\n",
    "H1: есть значимые различия в контрольной и экспериментальной группах.\n"
   ]
  },
  {
   "cell_type": "code",
   "execution_count": 99,
   "id": "4434871b",
   "metadata": {},
   "outputs": [
    {
     "data": {
      "text/plain": [
       "(618.6889141576197, 1.441829916366341e-136)"
      ]
     },
     "execution_count": 99,
     "metadata": {},
     "output_type": "execute_result"
    }
   ],
   "source": [
    "stat, p, dof, expected = chi2_contingency(pd.crosstab(df.is_match, df.group))\n",
    "stat, p"
   ]
  },
  {
   "cell_type": "markdown",
   "id": "eb855dd1",
   "metadata": {},
   "source": [
    "Вывод: p<0.05, следовательно между контрольной и экспериментальной группами существуют различия, поэтому мы отвергаем нулевую гипотезу. Новый алгоритм повлиял на поиск анкет и привел к увеличению количества взаимных лайков."
   ]
  }
 ],
 "metadata": {
  "kernelspec": {
   "display_name": "Python 3 (ipykernel)",
   "language": "python",
   "name": "python3"
  },
  "language_info": {
   "codemirror_mode": {
    "name": "ipython",
    "version": 3
   },
   "file_extension": ".py",
   "mimetype": "text/x-python",
   "name": "python",
   "nbconvert_exporter": "python",
   "pygments_lexer": "ipython3",
   "version": "3.11.7"
  }
 },
 "nbformat": 4,
 "nbformat_minor": 5
}
