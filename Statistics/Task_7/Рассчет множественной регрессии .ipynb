{
 "cells": [
  {
   "cell_type": "code",
   "execution_count": 4,
   "id": "c12b4471",
   "metadata": {},
   "outputs": [
    {
     "data": {
      "text/plain": [
       "-0.03"
      ]
     },
     "execution_count": 4,
     "metadata": {},
     "output_type": "execute_result"
    }
   ],
   "source": [
    "#Основываясь на итоговой регрессионной модели, давайте вновь выполним задачу предсказания. \n",
    "#Какой процент людей, проживающих в бедности, ожидается, если:\n",
    "\n",
    "#процент людей со средним образованием (hs_grad) равен 90; \n",
    "#процент людей, проживающих в столичной области (metro_res), равен 80;\n",
    "#процент белокожего населения (white) равен 50.\n",
    "\n",
    "\n",
    "\n",
    "b_0 = 68.7\n",
    "b1 = -0.06\n",
    "b2 = -0.05\n",
    "b3 = -0.57\n",
    "\n",
    "X1 = 0.5\n",
    "X2 = 0.8\n",
    "X3 = 0.9\n",
    "\n",
    "Y = b_0 + (b1*X1 + b2*X2 + b3*X3)\n",
    "b1*X1\n"
   ]
  },
  {
   "cell_type": "code",
   "execution_count": 5,
   "id": "31faedc5",
   "metadata": {},
   "outputs": [
    {
     "data": {
      "text/plain": [
       "-0.04000000000000001"
      ]
     },
     "execution_count": 5,
     "metadata": {},
     "output_type": "execute_result"
    }
   ],
   "source": [
    "b2*X2"
   ]
  },
  {
   "cell_type": "code",
   "execution_count": 6,
   "id": "1490e024",
   "metadata": {},
   "outputs": [
    {
     "data": {
      "text/plain": [
       "-0.513"
      ]
     },
     "execution_count": 6,
     "metadata": {},
     "output_type": "execute_result"
    }
   ],
   "source": [
    "b3*X3"
   ]
  },
  {
   "cell_type": "code",
   "execution_count": 7,
   "id": "1204e8c0",
   "metadata": {},
   "outputs": [
    {
     "data": {
      "text/plain": [
       "-0.583"
      ]
     },
     "execution_count": 7,
     "metadata": {},
     "output_type": "execute_result"
    }
   ],
   "source": [
    "-0.03 + -0.04 + -0.513"
   ]
  },
  {
   "cell_type": "code",
   "execution_count": 8,
   "id": "64e7aea1",
   "metadata": {},
   "outputs": [
    {
     "data": {
      "text/plain": [
       "10.400000000000006"
      ]
     },
     "execution_count": 8,
     "metadata": {},
     "output_type": "execute_result"
    }
   ],
   "source": [
    "68.7 - 58.3"
   ]
  },
  {
   "cell_type": "code",
   "execution_count": null,
   "id": "e50f9038",
   "metadata": {},
   "outputs": [],
   "source": []
  }
 ],
 "metadata": {
  "kernelspec": {
   "display_name": "Python 3 (ipykernel)",
   "language": "python",
   "name": "python3"
  },
  "language_info": {
   "codemirror_mode": {
    "name": "ipython",
    "version": 3
   },
   "file_extension": ".py",
   "mimetype": "text/x-python",
   "name": "python",
   "nbconvert_exporter": "python",
   "pygments_lexer": "ipython3",
   "version": "3.11.7"
  }
 },
 "nbformat": 4,
 "nbformat_minor": 5
}
